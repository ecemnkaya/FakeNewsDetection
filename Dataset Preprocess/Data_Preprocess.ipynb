{
  "nbformat": 4,
  "nbformat_minor": 0,
  "metadata": {
    "colab": {
      "provenance": []
    },
    "kernelspec": {
      "name": "python3",
      "display_name": "Python 3"
    },
    "language_info": {
      "name": "python"
    }
  },
  "cells": [
    {
      "cell_type": "code",
      "execution_count": 1,
      "metadata": {
        "id": "ivFVngtCebpu",
        "colab": {
          "base_uri": "https://localhost:8080/"
        },
        "outputId": "5ed4b097-23cf-4670-dd38-258d9bf2b14f"
      },
      "outputs": [
        {
          "output_type": "stream",
          "name": "stderr",
          "text": [
            "[nltk_data] Downloading package punkt to /root/nltk_data...\n",
            "[nltk_data]   Unzipping tokenizers/punkt.zip.\n",
            "[nltk_data] Downloading package stopwords to /root/nltk_data...\n",
            "[nltk_data]   Unzipping corpora/stopwords.zip.\n"
          ]
        },
        {
          "output_type": "execute_result",
          "data": {
            "text/plain": [
              "True"
            ]
          },
          "metadata": {},
          "execution_count": 1
        }
      ],
      "source": [
        "import pandas as pd\n",
        "import numpy as np\n",
        "import re\n",
        "from bs4 import BeautifulSoup\n",
        "import nltk\n",
        "import string\n",
        "from nltk.corpus import stopwords\n",
        "nltk.download('punkt')\n",
        "nltk.download('stopwords')"
      ]
    },
    {
      "cell_type": "code",
      "source": [
        "data_path = 'news.csv'\n",
        "df = pd.read_csv(data_path, error_bad_lines=False)"
      ],
      "metadata": {
        "id": "qm0LU39wexA8",
        "colab": {
          "base_uri": "https://localhost:8080/"
        },
        "outputId": "7bbfa01a-9aa8-49f1-9b3c-44ae713aa69c"
      },
      "execution_count": 2,
      "outputs": [
        {
          "output_type": "stream",
          "name": "stderr",
          "text": [
            "<ipython-input-2-8ea3875c0daa>:2: FutureWarning: The error_bad_lines argument has been deprecated and will be removed in a future version. Use on_bad_lines in the future.\n",
            "\n",
            "\n",
            "  df = pd.read_csv(data_path, error_bad_lines=False)\n"
          ]
        }
      ]
    },
    {
      "cell_type": "code",
      "source": [
        "df.head()"
      ],
      "metadata": {
        "colab": {
          "base_uri": "https://localhost:8080/",
          "height": 206
        },
        "id": "DWTYCOik1Fwq",
        "outputId": "c3bcdeaf-9d1d-4533-a5fd-3fb06a611219"
      },
      "execution_count": 3,
      "outputs": [
        {
          "output_type": "execute_result",
          "data": {
            "text/plain": [
              "                                                Body   Label\n",
              "0  Mustafa Denizli: Var olan kredimizi tüketiyoru...  gerçek\n",
              "1  Yemek Kartlarıyla Market Alışverişinin Yasakla...   yalan\n",
              "2  Samsun'da feci olay... Bu halde hastaneye kald...  gerçek\n",
              "3  Şırnak'ta minibüsün geçişi sırasında patlama: ...  gerçek\n",
              "4  İnce hesaplar! Beşiktaş yenerse averajla... Sp...  gerçek"
            ],
            "text/html": [
              "\n",
              "  <div id=\"df-dd1560a7-478a-47cf-b339-9d279a2cd672\">\n",
              "    <div class=\"colab-df-container\">\n",
              "      <div>\n",
              "<style scoped>\n",
              "    .dataframe tbody tr th:only-of-type {\n",
              "        vertical-align: middle;\n",
              "    }\n",
              "\n",
              "    .dataframe tbody tr th {\n",
              "        vertical-align: top;\n",
              "    }\n",
              "\n",
              "    .dataframe thead th {\n",
              "        text-align: right;\n",
              "    }\n",
              "</style>\n",
              "<table border=\"1\" class=\"dataframe\">\n",
              "  <thead>\n",
              "    <tr style=\"text-align: right;\">\n",
              "      <th></th>\n",
              "      <th>Body</th>\n",
              "      <th>Label</th>\n",
              "    </tr>\n",
              "  </thead>\n",
              "  <tbody>\n",
              "    <tr>\n",
              "      <th>0</th>\n",
              "      <td>Mustafa Denizli: Var olan kredimizi tüketiyoru...</td>\n",
              "      <td>gerçek</td>\n",
              "    </tr>\n",
              "    <tr>\n",
              "      <th>1</th>\n",
              "      <td>Yemek Kartlarıyla Market Alışverişinin Yasakla...</td>\n",
              "      <td>yalan</td>\n",
              "    </tr>\n",
              "    <tr>\n",
              "      <th>2</th>\n",
              "      <td>Samsun'da feci olay... Bu halde hastaneye kald...</td>\n",
              "      <td>gerçek</td>\n",
              "    </tr>\n",
              "    <tr>\n",
              "      <th>3</th>\n",
              "      <td>Şırnak'ta minibüsün geçişi sırasında patlama: ...</td>\n",
              "      <td>gerçek</td>\n",
              "    </tr>\n",
              "    <tr>\n",
              "      <th>4</th>\n",
              "      <td>İnce hesaplar! Beşiktaş yenerse averajla... Sp...</td>\n",
              "      <td>gerçek</td>\n",
              "    </tr>\n",
              "  </tbody>\n",
              "</table>\n",
              "</div>\n",
              "      <button class=\"colab-df-convert\" onclick=\"convertToInteractive('df-dd1560a7-478a-47cf-b339-9d279a2cd672')\"\n",
              "              title=\"Convert this dataframe to an interactive table.\"\n",
              "              style=\"display:none;\">\n",
              "        \n",
              "  <svg xmlns=\"http://www.w3.org/2000/svg\" height=\"24px\"viewBox=\"0 0 24 24\"\n",
              "       width=\"24px\">\n",
              "    <path d=\"M0 0h24v24H0V0z\" fill=\"none\"/>\n",
              "    <path d=\"M18.56 5.44l.94 2.06.94-2.06 2.06-.94-2.06-.94-.94-2.06-.94 2.06-2.06.94zm-11 1L8.5 8.5l.94-2.06 2.06-.94-2.06-.94L8.5 2.5l-.94 2.06-2.06.94zm10 10l.94 2.06.94-2.06 2.06-.94-2.06-.94-.94-2.06-.94 2.06-2.06.94z\"/><path d=\"M17.41 7.96l-1.37-1.37c-.4-.4-.92-.59-1.43-.59-.52 0-1.04.2-1.43.59L10.3 9.45l-7.72 7.72c-.78.78-.78 2.05 0 2.83L4 21.41c.39.39.9.59 1.41.59.51 0 1.02-.2 1.41-.59l7.78-7.78 2.81-2.81c.8-.78.8-2.07 0-2.86zM5.41 20L4 18.59l7.72-7.72 1.47 1.35L5.41 20z\"/>\n",
              "  </svg>\n",
              "      </button>\n",
              "      \n",
              "  <style>\n",
              "    .colab-df-container {\n",
              "      display:flex;\n",
              "      flex-wrap:wrap;\n",
              "      gap: 12px;\n",
              "    }\n",
              "\n",
              "    .colab-df-convert {\n",
              "      background-color: #E8F0FE;\n",
              "      border: none;\n",
              "      border-radius: 50%;\n",
              "      cursor: pointer;\n",
              "      display: none;\n",
              "      fill: #1967D2;\n",
              "      height: 32px;\n",
              "      padding: 0 0 0 0;\n",
              "      width: 32px;\n",
              "    }\n",
              "\n",
              "    .colab-df-convert:hover {\n",
              "      background-color: #E2EBFA;\n",
              "      box-shadow: 0px 1px 2px rgba(60, 64, 67, 0.3), 0px 1px 3px 1px rgba(60, 64, 67, 0.15);\n",
              "      fill: #174EA6;\n",
              "    }\n",
              "\n",
              "    [theme=dark] .colab-df-convert {\n",
              "      background-color: #3B4455;\n",
              "      fill: #D2E3FC;\n",
              "    }\n",
              "\n",
              "    [theme=dark] .colab-df-convert:hover {\n",
              "      background-color: #434B5C;\n",
              "      box-shadow: 0px 1px 3px 1px rgba(0, 0, 0, 0.15);\n",
              "      filter: drop-shadow(0px 1px 2px rgba(0, 0, 0, 0.3));\n",
              "      fill: #FFFFFF;\n",
              "    }\n",
              "  </style>\n",
              "\n",
              "      <script>\n",
              "        const buttonEl =\n",
              "          document.querySelector('#df-dd1560a7-478a-47cf-b339-9d279a2cd672 button.colab-df-convert');\n",
              "        buttonEl.style.display =\n",
              "          google.colab.kernel.accessAllowed ? 'block' : 'none';\n",
              "\n",
              "        async function convertToInteractive(key) {\n",
              "          const element = document.querySelector('#df-dd1560a7-478a-47cf-b339-9d279a2cd672');\n",
              "          const dataTable =\n",
              "            await google.colab.kernel.invokeFunction('convertToInteractive',\n",
              "                                                     [key], {});\n",
              "          if (!dataTable) return;\n",
              "\n",
              "          const docLinkHtml = 'Like what you see? Visit the ' +\n",
              "            '<a target=\"_blank\" href=https://colab.research.google.com/notebooks/data_table.ipynb>data table notebook</a>'\n",
              "            + ' to learn more about interactive tables.';\n",
              "          element.innerHTML = '';\n",
              "          dataTable['output_type'] = 'display_data';\n",
              "          await google.colab.output.renderOutput(dataTable, element);\n",
              "          const docLink = document.createElement('div');\n",
              "          docLink.innerHTML = docLinkHtml;\n",
              "          element.appendChild(docLink);\n",
              "        }\n",
              "      </script>\n",
              "    </div>\n",
              "  </div>\n",
              "  "
            ]
          },
          "metadata": {},
          "execution_count": 3
        }
      ]
    },
    {
      "cell_type": "code",
      "source": [
        "df.shape"
      ],
      "metadata": {
        "colab": {
          "base_uri": "https://localhost:8080/"
        },
        "id": "-bFdFova2GSs",
        "outputId": "af969e7e-1e25-45a3-8d0e-030f70fe3d0f"
      },
      "execution_count": 4,
      "outputs": [
        {
          "output_type": "execute_result",
          "data": {
            "text/plain": [
              "(4455, 2)"
            ]
          },
          "metadata": {},
          "execution_count": 4
        }
      ]
    },
    {
      "cell_type": "markdown",
      "source": [
        "Checking the total number of the elements before preprocess steps"
      ],
      "metadata": {
        "id": "8ouE5x2a9OHU"
      }
    },
    {
      "cell_type": "code",
      "source": [
        "# Total count of HTML elements\n",
        "html_element_count = df['Body'].str.count('<[^>]+>').sum()\n",
        "print(\"HTML Element Count:\", html_element_count)\n",
        "\n",
        "# Total number of special characters\n",
        "special_char_count = df['Body'].apply(lambda text: sum(1 for char in text if char in string.punctuation)).sum()\n",
        "print(\"Special Character Count:\", special_char_count)\n",
        "\n",
        "# Total number of newlines and white spaces\n",
        "whitespace_count = df['Body'].str.count('\\s').sum()\n",
        "print(\"Whitespace Count:\", whitespace_count)\n",
        "\n",
        "# Total number of capital letters\n",
        "uppercase_count = df['Body'].str.count(r'[A-Z]').sum()\n",
        "print(\"Uppercase Count:\", uppercase_count)\n",
        "\n",
        "# Total number of stop-words\n",
        "stopwords_list = stopwords.words('turkish')  # Turkish stop-words list\n",
        "stopwords_count = df['Body'].apply(lambda text: len([word for word in text.split() if word.lower() in stopwords_list])).sum()\n",
        "print(\"Stopwords Count:\", stopwords_count)"
      ],
      "metadata": {
        "colab": {
          "base_uri": "https://localhost:8080/"
        },
        "id": "-WTomP_z7Bah",
        "outputId": "a5e34f16-601e-4be2-eea9-678cd75487e7"
      },
      "execution_count": 5,
      "outputs": [
        {
          "output_type": "stream",
          "name": "stdout",
          "text": [
            "HTML Element Count: 9\n",
            "Special Character Count: 260655\n",
            "Whitespace Count: 1309647\n",
            "Uppercase Count: 263136\n",
            "Stopwords Count: 123573\n"
          ]
        }
      ]
    },
    {
      "cell_type": "markdown",
      "source": [
        "### Data Preprocessing Steps"
      ],
      "metadata": {
        "id": "IMHK58GH_Snk"
      }
    },
    {
      "cell_type": "markdown",
      "source": [
        "* Remove HTML elements\n",
        "\n",
        "* Filter special characters\n",
        "\n",
        "* Eliminate newlines and white spaces\n",
        "\n",
        "* Encode in lowercase letters\n",
        "\n",
        "* Remove stop words"
      ],
      "metadata": {
        "id": "FLbxAta9HbuQ"
      }
    },
    {
      "cell_type": "code",
      "source": [
        "def preprocess_text(text):\n",
        "    # Remove HTML elements\n",
        "    text = BeautifulSoup(text, \"html.parser\").get_text()\n",
        "    \n",
        "    # Filter special characters\n",
        "    text = re.sub(r\"[^a-zA-ZğüşıöçĞÜŞİÖÇ\\s]\", \"\", text)\n",
        "    \n",
        "    # Eliminate newlines and white spaces\n",
        "    text = re.sub(r\"\\s+\", \" \", text)\n",
        "    \n",
        "    # Encode in lowercase letters\n",
        "    text = text.lower()\n",
        "    \n",
        "    # Remove stop words and extra whitespaces\n",
        "    stop_words = set(stopwords.words('turkish'))\n",
        "    words = text.split()\n",
        "    words = [word for word in words if word.lower() not in stop_words]\n",
        "    text = ' '.join(words)\n",
        "  \n",
        "    return text"
      ],
      "metadata": {
        "id": "NylGAYVw7rm-"
      },
      "execution_count": 6,
      "outputs": []
    },
    {
      "cell_type": "code",
      "source": [
        "df['Body'] = df['Body'].apply(preprocess_text)"
      ],
      "metadata": {
        "colab": {
          "base_uri": "https://localhost:8080/"
        },
        "id": "ii8T0Xms2D76",
        "outputId": "dcc63b9d-70eb-4635-eddb-00ffb250b6a8"
      },
      "execution_count": 7,
      "outputs": [
        {
          "output_type": "stream",
          "name": "stderr",
          "text": [
            "<ipython-input-6-e43350bc8c9c>:3: MarkupResemblesLocatorWarning: The input looks more like a filename than markup. You may want to open this file and pass the filehandle into Beautiful Soup.\n",
            "  text = BeautifulSoup(text, \"html.parser\").get_text()\n"
          ]
        }
      ]
    },
    {
      "cell_type": "code",
      "source": [
        "df.head()"
      ],
      "metadata": {
        "colab": {
          "base_uri": "https://localhost:8080/",
          "height": 206
        },
        "id": "aXPiIa-X2D-n",
        "outputId": "41d61c19-0dfc-4f74-d1e3-bd797d0ce65f"
      },
      "execution_count": 8,
      "outputs": [
        {
          "output_type": "execute_result",
          "data": {
            "text/plain": [
              "                                                Body   Label\n",
              "0  mustafa denizli var olan kredimizi tüketiyoruz...  gerçek\n",
              "1  yemek kartlarıyla market alışverişinin yasakla...   yalan\n",
              "2  samsunda feci olay halde hastaneye kaldırıldı ...  gerçek\n",
              "3  şırnakta minibüsün geçişi sırasında patlama öl...  gerçek\n",
              "4  i̇nce hesaplar beşiktaş yenerse averajla spor ...  gerçek"
            ],
            "text/html": [
              "\n",
              "  <div id=\"df-eea4ddda-ad70-4764-978e-1af327d02f29\">\n",
              "    <div class=\"colab-df-container\">\n",
              "      <div>\n",
              "<style scoped>\n",
              "    .dataframe tbody tr th:only-of-type {\n",
              "        vertical-align: middle;\n",
              "    }\n",
              "\n",
              "    .dataframe tbody tr th {\n",
              "        vertical-align: top;\n",
              "    }\n",
              "\n",
              "    .dataframe thead th {\n",
              "        text-align: right;\n",
              "    }\n",
              "</style>\n",
              "<table border=\"1\" class=\"dataframe\">\n",
              "  <thead>\n",
              "    <tr style=\"text-align: right;\">\n",
              "      <th></th>\n",
              "      <th>Body</th>\n",
              "      <th>Label</th>\n",
              "    </tr>\n",
              "  </thead>\n",
              "  <tbody>\n",
              "    <tr>\n",
              "      <th>0</th>\n",
              "      <td>mustafa denizli var olan kredimizi tüketiyoruz...</td>\n",
              "      <td>gerçek</td>\n",
              "    </tr>\n",
              "    <tr>\n",
              "      <th>1</th>\n",
              "      <td>yemek kartlarıyla market alışverişinin yasakla...</td>\n",
              "      <td>yalan</td>\n",
              "    </tr>\n",
              "    <tr>\n",
              "      <th>2</th>\n",
              "      <td>samsunda feci olay halde hastaneye kaldırıldı ...</td>\n",
              "      <td>gerçek</td>\n",
              "    </tr>\n",
              "    <tr>\n",
              "      <th>3</th>\n",
              "      <td>şırnakta minibüsün geçişi sırasında patlama öl...</td>\n",
              "      <td>gerçek</td>\n",
              "    </tr>\n",
              "    <tr>\n",
              "      <th>4</th>\n",
              "      <td>i̇nce hesaplar beşiktaş yenerse averajla spor ...</td>\n",
              "      <td>gerçek</td>\n",
              "    </tr>\n",
              "  </tbody>\n",
              "</table>\n",
              "</div>\n",
              "      <button class=\"colab-df-convert\" onclick=\"convertToInteractive('df-eea4ddda-ad70-4764-978e-1af327d02f29')\"\n",
              "              title=\"Convert this dataframe to an interactive table.\"\n",
              "              style=\"display:none;\">\n",
              "        \n",
              "  <svg xmlns=\"http://www.w3.org/2000/svg\" height=\"24px\"viewBox=\"0 0 24 24\"\n",
              "       width=\"24px\">\n",
              "    <path d=\"M0 0h24v24H0V0z\" fill=\"none\"/>\n",
              "    <path d=\"M18.56 5.44l.94 2.06.94-2.06 2.06-.94-2.06-.94-.94-2.06-.94 2.06-2.06.94zm-11 1L8.5 8.5l.94-2.06 2.06-.94-2.06-.94L8.5 2.5l-.94 2.06-2.06.94zm10 10l.94 2.06.94-2.06 2.06-.94-2.06-.94-.94-2.06-.94 2.06-2.06.94z\"/><path d=\"M17.41 7.96l-1.37-1.37c-.4-.4-.92-.59-1.43-.59-.52 0-1.04.2-1.43.59L10.3 9.45l-7.72 7.72c-.78.78-.78 2.05 0 2.83L4 21.41c.39.39.9.59 1.41.59.51 0 1.02-.2 1.41-.59l7.78-7.78 2.81-2.81c.8-.78.8-2.07 0-2.86zM5.41 20L4 18.59l7.72-7.72 1.47 1.35L5.41 20z\"/>\n",
              "  </svg>\n",
              "      </button>\n",
              "      \n",
              "  <style>\n",
              "    .colab-df-container {\n",
              "      display:flex;\n",
              "      flex-wrap:wrap;\n",
              "      gap: 12px;\n",
              "    }\n",
              "\n",
              "    .colab-df-convert {\n",
              "      background-color: #E8F0FE;\n",
              "      border: none;\n",
              "      border-radius: 50%;\n",
              "      cursor: pointer;\n",
              "      display: none;\n",
              "      fill: #1967D2;\n",
              "      height: 32px;\n",
              "      padding: 0 0 0 0;\n",
              "      width: 32px;\n",
              "    }\n",
              "\n",
              "    .colab-df-convert:hover {\n",
              "      background-color: #E2EBFA;\n",
              "      box-shadow: 0px 1px 2px rgba(60, 64, 67, 0.3), 0px 1px 3px 1px rgba(60, 64, 67, 0.15);\n",
              "      fill: #174EA6;\n",
              "    }\n",
              "\n",
              "    [theme=dark] .colab-df-convert {\n",
              "      background-color: #3B4455;\n",
              "      fill: #D2E3FC;\n",
              "    }\n",
              "\n",
              "    [theme=dark] .colab-df-convert:hover {\n",
              "      background-color: #434B5C;\n",
              "      box-shadow: 0px 1px 3px 1px rgba(0, 0, 0, 0.15);\n",
              "      filter: drop-shadow(0px 1px 2px rgba(0, 0, 0, 0.3));\n",
              "      fill: #FFFFFF;\n",
              "    }\n",
              "  </style>\n",
              "\n",
              "      <script>\n",
              "        const buttonEl =\n",
              "          document.querySelector('#df-eea4ddda-ad70-4764-978e-1af327d02f29 button.colab-df-convert');\n",
              "        buttonEl.style.display =\n",
              "          google.colab.kernel.accessAllowed ? 'block' : 'none';\n",
              "\n",
              "        async function convertToInteractive(key) {\n",
              "          const element = document.querySelector('#df-eea4ddda-ad70-4764-978e-1af327d02f29');\n",
              "          const dataTable =\n",
              "            await google.colab.kernel.invokeFunction('convertToInteractive',\n",
              "                                                     [key], {});\n",
              "          if (!dataTable) return;\n",
              "\n",
              "          const docLinkHtml = 'Like what you see? Visit the ' +\n",
              "            '<a target=\"_blank\" href=https://colab.research.google.com/notebooks/data_table.ipynb>data table notebook</a>'\n",
              "            + ' to learn more about interactive tables.';\n",
              "          element.innerHTML = '';\n",
              "          dataTable['output_type'] = 'display_data';\n",
              "          await google.colab.output.renderOutput(dataTable, element);\n",
              "          const docLink = document.createElement('div');\n",
              "          docLink.innerHTML = docLinkHtml;\n",
              "          element.appendChild(docLink);\n",
              "        }\n",
              "      </script>\n",
              "    </div>\n",
              "  </div>\n",
              "  "
            ]
          },
          "metadata": {},
          "execution_count": 8
        }
      ]
    },
    {
      "cell_type": "code",
      "source": [
        "# Total count of HTML elements\n",
        "html_element_count = df['Body'].str.count('<[^>]+>').sum()\n",
        "print(\"HTML Element Count:\", html_element_count)\n",
        "\n",
        "# Total number of special characters\n",
        "special_char_count = df['Body'].apply(lambda text: sum(1 for char in text if char in string.punctuation)).sum()\n",
        "print(\"Special Character Count:\", special_char_count)\n",
        "\n",
        "# Total number of newlines and white spaces\n",
        "whitespace_count = df['Body'].str.count('\\s').sum()\n",
        "print(\"Whitespace Count:\", whitespace_count)\n",
        "\n",
        "# Total number of capital letters\n",
        "uppercase_count = df['Body'].str.count(r'[A-Z]').sum()\n",
        "print(\"Uppercase Count:\", uppercase_count)\n",
        "\n",
        "# Total number of stop-words\n",
        "stopwords_list = stopwords.words('turkish')  # Turkish stop-words list\n",
        "stopwords_count = df['Body'].apply(lambda text: len([word for word in text.split() if word.lower() in stopwords_list])).sum()\n",
        "print(\"Stopwords Count:\", stopwords_count)"
      ],
      "metadata": {
        "colab": {
          "base_uri": "https://localhost:8080/"
        },
        "id": "b8NYwePQ3zgv",
        "outputId": "ec837252-446c-413b-eb06-587de5fc67ab"
      },
      "execution_count": 9,
      "outputs": [
        {
          "output_type": "stream",
          "name": "stdout",
          "text": [
            "HTML Element Count: 0\n",
            "Special Character Count: 0\n",
            "Whitespace Count: 1128147\n",
            "Uppercase Count: 0\n",
            "Stopwords Count: 0\n"
          ]
        }
      ]
    },
    {
      "cell_type": "code",
      "source": [
        "df.shape"
      ],
      "metadata": {
        "colab": {
          "base_uri": "https://localhost:8080/"
        },
        "id": "AIy4r1g49nHk",
        "outputId": "16c118eb-58f7-4cb3-d7a7-e87f2d7ba125"
      },
      "execution_count": 10,
      "outputs": [
        {
          "output_type": "execute_result",
          "data": {
            "text/plain": [
              "(4455, 2)"
            ]
          },
          "metadata": {},
          "execution_count": 10
        }
      ]
    },
    {
      "cell_type": "code",
      "source": [
        "# Check for null values on DataFrame\n",
        "null_values = df.isnull()\n",
        "\n",
        "# Calculate the number of null values in each column\n",
        "null_counts = null_values.sum()\n",
        "\n",
        "# Get the total number of nulls\n",
        "total_null_count = null_counts.sum()\n",
        "\n",
        "print(\"Total Null Count:\", total_null_count)"
      ],
      "metadata": {
        "colab": {
          "base_uri": "https://localhost:8080/"
        },
        "id": "1UuhQ5gf9xyZ",
        "outputId": "7d243e8a-3287-427f-9f92-0afb696b35ab"
      },
      "execution_count": 11,
      "outputs": [
        {
          "output_type": "stream",
          "name": "stdout",
          "text": [
            "Total Null Count: 0\n"
          ]
        }
      ]
    },
    {
      "cell_type": "code",
      "source": [
        "df.to_csv('clean_news.csv', index=False, encoding='utf-8-sig')"
      ],
      "metadata": {
        "id": "LQda50Na9jaX"
      },
      "execution_count": 12,
      "outputs": []
    }
  ]
}